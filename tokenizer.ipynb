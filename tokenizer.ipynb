{
 "cells": [
  {
   "cell_type": "code",
   "execution_count": 10,
   "id": "003fb83d",
   "metadata": {},
   "outputs": [],
   "source": [
    "from transformers import AutoTokenizer\n",
    "import numpy as np\n",
    "tokenizer = AutoTokenizer.from_pretrained(\"Qwen/Qwen2.5-0.5B-Instruct\")"
   ]
  },
  {
   "cell_type": "code",
   "execution_count": 2,
   "id": "4d89321b",
   "metadata": {},
   "outputs": [
    {
     "data": {
      "text/plain": [
       "{'input_ids': [3838, 374, 220, 20, 15, 15, 10, 18, 1939, 16141, 25], 'attention_mask': [1, 1, 1, 1, 1, 1, 1, 1, 1, 1, 1]}"
      ]
     },
     "execution_count": 2,
     "metadata": {},
     "output_type": "execute_result"
    }
   ],
   "source": [
    "TEXT = \"What is 500+3?\\n\\nAnswer:\"\n",
    "tokenizer(TEXT)"
   ]
  },
  {
   "cell_type": "code",
   "execution_count": 12,
   "id": "5f7f4cf4",
   "metadata": {},
   "outputs": [
    {
     "data": {
      "text/plain": [
       "'What is 500+3?\\n\\nAnswer: 503\\n\\nExplanation:\\n\\n500 + 3 = 5'"
      ]
     },
     "execution_count": 12,
     "metadata": {},
     "output_type": "execute_result"
    }
   ],
   "source": [
    "new_token_text = \"3838 374 220 20 15 15 10 18 1939 16141 25 220 20 15 18 271 69769 1447 20 15 15 488 220 18 284 220 20\"\n",
    "new_tokens = list(map(int, new_token_text.split(\" \")))\n",
    "tokenizer.batch_decode(np.array([new_tokens]))[0]"
   ]
  }
 ],
 "metadata": {
  "kernelspec": {
   "display_name": "Python 3",
   "language": "python",
   "name": "python3"
  },
  "language_info": {
   "codemirror_mode": {
    "name": "ipython",
    "version": 3
   },
   "file_extension": ".py",
   "mimetype": "text/x-python",
   "name": "python",
   "nbconvert_exporter": "python",
   "pygments_lexer": "ipython3",
   "version": "3.10.17"
  }
 },
 "nbformat": 4,
 "nbformat_minor": 5
}
